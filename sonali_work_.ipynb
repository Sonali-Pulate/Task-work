{
  "nbformat": 4,
  "nbformat_minor": 0,
  "metadata": {
    "colab": {
      "provenance": []
    },
    "kernelspec": {
      "name": "python3",
      "display_name": "Python 3"
    },
    "language_info": {
      "name": "python"
    }
  },
  "cells": [
    {
      "cell_type": "code",
      "execution_count": 7,
      "metadata": {
        "id": "RVxSgvW-Gt1S"
      },
      "outputs": [],
      "source": [
        "#Step 1: Handle an empty string\n",
        "#Test case\n",
        "assert add(\"\") == 0\n"
      ]
    },
    {
      "cell_type": "code",
      "source": [
        "#Impementation of test case\n",
        "def add(numbers: str) -> int:\n",
        "    if not numbers:\n",
        "        return 0\n",
        "    return 0\n",
        "print(0)"
      ],
      "metadata": {
        "colab": {
          "base_uri": "https://localhost:8080/"
        },
        "id": "ilQfekdrG6Ea",
        "outputId": "473a2cdb-53ca-4b50-b749-fa865fa36031"
      },
      "execution_count": 19,
      "outputs": [
        {
          "output_type": "stream",
          "name": "stdout",
          "text": [
            "0\n"
          ]
        }
      ]
    },
    {
      "cell_type": "code",
      "source": [
        "#Step 2: Handle a single number\n",
        "assert add(\"1\") == 1\n"
      ],
      "metadata": {
        "id": "MqFtLUHSHXzD"
      },
      "execution_count": 6,
      "outputs": []
    },
    {
      "cell_type": "code",
      "source": [
        "#implementation of test case\n",
        "def add(numbers: str) -> int:\n",
        "    if not numbers:\n",
        "        return 0 # This line was not indented correctly, causing the error\n",
        "    return int(numbers)\n",
        "print(add(\"5\"))"
      ],
      "metadata": {
        "colab": {
          "base_uri": "https://localhost:8080/"
        },
        "id": "Ey0hPkZeHXsR",
        "outputId": "bc1d6ad5-e1d6-43fd-f28a-9c703d6c73f1"
      },
      "execution_count": 16,
      "outputs": [
        {
          "output_type": "stream",
          "name": "stdout",
          "text": [
            "5\n"
          ]
        }
      ]
    },
    {
      "cell_type": "code",
      "source": [
        "#Step 3: Handle two numbers separated by commas\n",
        "#Test Case\n",
        "#assert add(\"1,5\") == 6\n",
        "\n",
        "#implementation of test case\n",
        "def add(numbers: str) -> int:\n",
        "    if not numbers:\n",
        "        return 0\n",
        "    # Split the string by commas and convert each part to an integer\n",
        "    nums = map(int, numbers.split(\",\"))\n",
        "    # Return the sum of the numbers\n",
        "    return sum(nums)\n",
        "\n",
        "#Call the correct add function to test the assertion case\n",
        "#By calling add(\"1,5\")\n",
        "add(\"1,5\")"
      ],
      "metadata": {
        "colab": {
          "base_uri": "https://localhost:8080/"
        },
        "id": "Wa4fCSXSKqEw",
        "outputId": "d7e8f939-37b1-4932-d442-9a8515ad47f1"
      },
      "execution_count": 23,
      "outputs": [
        {
          "output_type": "execute_result",
          "data": {
            "text/plain": [
              "6"
            ]
          },
          "metadata": {},
          "execution_count": 23
        }
      ]
    },
    {
      "cell_type": "code",
      "source": [
        "#Step 4: Handle an unknown number of numbers\n",
        "#Test case:\n",
        "assert add(\"1,2,3,4\") == 10\n",
        "print(\"Assertion passed\")"
      ],
      "metadata": {
        "colab": {
          "base_uri": "https://localhost:8080/"
        },
        "id": "NAAkSmggKqMf",
        "outputId": "d1cf868c-5056-400a-9472-c73bd7453745"
      },
      "execution_count": 58,
      "outputs": [
        {
          "output_type": "stream",
          "name": "stdout",
          "text": [
            "Assertion passed\n"
          ]
        }
      ]
    },
    {
      "cell_type": "code",
      "source": [
        "#Step 5: Handle new lines as delimiters\n",
        "#Test case:\n",
        "assert add(\"1\\n2,3\") == 6\n"
      ],
      "metadata": {
        "id": "xBm31d6NKqQX"
      },
      "execution_count": 41,
      "outputs": []
    },
    {
      "cell_type": "code",
      "source": [
        "#Implementation of test case:\n",
        "def add(numbers: str) -> int:\n",
        "    if not numbers:\n",
        "        return 0\n",
        "#Implementation of test case:\n",
        "def add(numbers: str) -> int:\n",
        "    if not numbers:\n",
        "        return 0\n",
        "    nums = map(int, numbers.replace(\"\\n\", \",\").split(\",\"))\n",
        "    return sum(nums)\n",
        "\n",
        ""
      ],
      "metadata": {
        "id": "4kxiXPkJKqUB"
      },
      "execution_count": 57,
      "outputs": []
    },
    {
      "cell_type": "code",
      "source": [
        "#Step 6: Support custom delimiters\n",
        "# Test case\n",
        "#assert add(\"//;\\n1;2\") == 3\n",
        "def add(numbers: str) -> int:\n",
        "    if not numbers:\n",
        "        return 0\n",
        "    if numbers.startswith(\"//\"):\n",
        "        delimiter = numbers[2:numbers.index(\"\\n\")]  # Extract the custom delimiter\n",
        "        numbers = numbers[numbers.index(\"\\n\") + 1:]  # Get the numbers part\n",
        "        nums = map(int, numbers.split(delimiter))  # Split using the custom delimiter\n",
        "    else:\n",
        "        nums = map(int, numbers.replace(\"\\n\", \",\").split(\",\"))  # Handle commas and newlines\n",
        "    return sum(nums)\n",
        "assert add(\"//;\\n1;2\") == 3\n",
        "print(\"Assertion passed\")"
      ],
      "metadata": {
        "colab": {
          "base_uri": "https://localhost:8080/"
        },
        "id": "fvVUt95QKE66",
        "outputId": "09bdeab2-95fd-495d-e924-be13d30c0fd2"
      },
      "execution_count": 55,
      "outputs": [
        {
          "output_type": "stream",
          "name": "stdout",
          "text": [
            "Assertion passed\n"
          ]
        }
      ]
    },
    {
      "cell_type": "code",
      "source": [
        "#Step 7: Handle negative numbers\n",
        "#Test case:\n",
        "try:\n",
        "    add(\"1,-2,3,-4\")\n",
        "except Exception as e:\n",
        "    assert str(e) == \"Negative numbers not allowed: -2, -4\"\n",
        "\n"
      ],
      "metadata": {
        "id": "-YfGapF3KE3X"
      },
      "execution_count": 44,
      "outputs": []
    },
    {
      "cell_type": "code",
      "source": [
        "#impementation of test case\n",
        "def add(numbers: str) -> int:\n",
        "    if not numbers:\n",
        "        return 0\n",
        "\n",
        "    delimiter = \",\"\n",
        "    if numbers.startswith(\"//\"):\n",
        "        parts = numbers.split(\"\\n\", 1)\n",
        "        delimiter = parts[0][2:]\n",
        "        numbers = parts[1]\n",
        "\n",
        "    nums = list(map(int, numbers.replace(\"\\n\", delimiter).split(delimiter)))\n",
        "    negatives = [n for n in nums if n < 0]\n",
        "\n",
        "    if negatives:\n",
        "        raise ValueError(f\"Negative numbers not allowed: {', '.join(map(str, negatives))}\")\n",
        "\n",
        "    return sum(nums)\n",
        "print(add(\"1,2,3\"))"
      ],
      "metadata": {
        "colab": {
          "base_uri": "https://localhost:8080/"
        },
        "id": "MdrRE08SKEzp",
        "outputId": "b403620e-95ba-4ba1-9ac7-f20f27dcb787"
      },
      "execution_count": 56,
      "outputs": [
        {
          "output_type": "stream",
          "name": "stdout",
          "text": [
            "6\n"
          ]
        }
      ]
    },
    {
      "cell_type": "code",
      "source": [
        "#final code file-\n",
        "def add(numbers: str) -> int:\n",
        "    if not numbers:\n",
        "        return 0\n",
        "\n",
        "    delimiter = \",\"\n",
        "    if numbers.startswith(\"//\"):\n",
        "        parts = numbers.split(\"\\n\", 1)\n",
        "        delimiter = parts[0][2:]\n",
        "        numbers = parts[1]\n",
        "\n",
        "    nums = list(map(int, numbers.replace(\"\\n\", delimiter).split(delimiter)))\n",
        "    negatives = [n for n in nums if n < 0]\n",
        "\n",
        "    if negatives:\n",
        "        raise ValueError(f\"Negative numbers not allowed: {', '.join(map(str, negatives))}\")\n",
        "\n",
        "    return sum(nums)\n",
        "print(add(\"1,2,3\"))"
      ],
      "metadata": {
        "colab": {
          "base_uri": "https://localhost:8080/"
        },
        "id": "jUP4FCZxKEwh",
        "outputId": "856c2e46-4ae1-49f4-c124-43d404c4adba"
      },
      "execution_count": 61,
      "outputs": [
        {
          "output_type": "stream",
          "name": "stdout",
          "text": [
            "6\n"
          ]
        }
      ]
    },
    {
      "cell_type": "code",
      "source": [
        "#soution for string calculator for anoter code\n",
        "def add(numbers):\n",
        "    if not numbers:\n",
        "        return 0\n",
        "\n",
        "    delimiter = ','\n",
        "    if numbers.startswith('//'):\n",
        "        delimiter = numbers[2]\n",
        "        numbers = numbers[4:]\n",
        "\n",
        "    numbers = numbers.replace('\\n', delimiter)\n",
        "    numbers = numbers.split(delimiter)\n",
        "\n",
        "    negatives = []\n",
        "    total = 0\n",
        "    for num in numbers:\n",
        "        if num and int(num) < 0:\n",
        "            negatives.append(num)\n",
        "        total += max(int(num), 0)\n",
        "\n",
        "    if negatives:\n",
        "        raise ValueError(f\"Negative numbers not allowed: {', '.join(negatives)}\")\n",
        "\n",
        "    return total\n",
        ""
      ],
      "metadata": {
        "id": "rOp0gPBsKEso"
      },
      "execution_count": 64,
      "outputs": []
    },
    {
      "cell_type": "code",
      "source": [
        "#Example\n",
        "try:\n",
        "    result = add(\"1,-2,3,-4\")\n",
        "    print(result)\n",
        "except ValueError as e:\n",
        "    print(e)"
      ],
      "metadata": {
        "colab": {
          "base_uri": "https://localhost:8080/"
        },
        "id": "9fD3yulYKEo3",
        "outputId": "06f16522-b57b-4e45-a975-9d01aa29eda6"
      },
      "execution_count": 65,
      "outputs": [
        {
          "output_type": "stream",
          "name": "stdout",
          "text": [
            "Negative numbers not allowed: -2, -4\n"
          ]
        }
      ]
    },
    {
      "cell_type": "code",
      "source": [
        "# Detail explanation of each step -\n",
        "#Initialization:\n",
        "#Default delimiter: The delimiter is set to a comma (,) by default, meaning numbers will be separated by commas unless a custom delimiter is provided.\n",
        "#Negatives list: This is an empty list where all negative numbers found in the input will be stored.\n",
        "#Total: A variable to keep track of the sum of the non-negative numbers.\n",
        "\n",
        "#Handling Custom Delimiters:\n",
        "If the input string starts with //, it means a custom delimiter is defined.\n",
        "The code extracts the custom delimiter from the beginning of the string and removes this part so only the numbers remain.\n",
        "#Processing the String:\n",
        "All newlines (\\n) in the input are replaced with the current delimiter (default or custom).\n",
        "The string is then split into individual numbers using the delimiter.\n",
        "\n",
        "#Processing Each Number:\n",
        "The code goes through each number in the list:\n",
        "If the number is negative (and not empty), it adds it to the negatives list.\n",
        "If the number is positive or zero, it adds it to the total sum.\n",
        "\n",
        "#Handling Negative Numbers:\n",
        "If any negative numbers are found (i.e., negatives list is not empty):\n",
        "It raises an error (ValueError) and includes all the negative numbers in the error message.\n",
        "\n",
        "#Returning the Result:\n",
        "If no negative numbers are found, the function returns the sum of all non-negative numbers.\n"
      ],
      "metadata": {
        "id": "0shVFuY2HXXa"
      },
      "execution_count": null,
      "outputs": []
    }
  ]
}